{
  "cells": [
    {
      "cell_type": "code",
      "execution_count": 3,
      "metadata": {
        "trusted": true
      },
      "outputs": [],
      "source": [
        "import pandas as pd\n",
        "df = pd.read_csv(\"pokemon_data.csv\")"
      ]
    },
    {
      "cell_type": "code",
      "execution_count": null,
      "metadata": {
        "trusted": true
      },
      "outputs": [],
      "source": [
        "print(df.columns)"
      ]
    },
    {
      "cell_type": "code",
      "execution_count": null,
      "metadata": {
        "trusted": true
      },
      "outputs": [],
      "source": [
        "print(df)"
      ]
    },
    {
      "cell_type": "code",
      "execution_count": null,
      "metadata": {
        "trusted": true
      },
      "outputs": [],
      "source": [
        "# print(df.iloc[2,2])"
      ]
    },
    {
      "cell_type": "code",
      "execution_count": null,
      "metadata": {
        "trusted": true
      },
      "outputs": [],
      "source": [
        "# df.loc[df[\"Type 1\"]==\"Grass\"]"
      ]
    },
    {
      "cell_type": "code",
      "execution_count": null,
      "metadata": {
        "trusted": true
      },
      "outputs": [],
      "source": [
        "# print(df.iloc[5,3])"
      ]
    },
    {
      "cell_type": "code",
      "execution_count": null,
      "metadata": {
        "trusted": true
      },
      "outputs": [],
      "source": [
        "# df.describe()"
      ]
    },
    {
      "cell_type": "code",
      "execution_count": null,
      "metadata": {
        "trusted": true
      },
      "outputs": [],
      "source": [
        "# df.sort_values([\"Name\"], ascending = False)"
      ]
    },
    {
      "cell_type": "code",
      "execution_count": null,
      "metadata": {
        "trusted": true
      },
      "outputs": [],
      "source": [
        "# print(df)"
      ]
    },
    {
      "cell_type": "code",
      "execution_count": null,
      "metadata": {
        "trusted": true
      },
      "outputs": [],
      "source": [
        "# df[\"total\"] = df.iloc[:,4:12].sum(axis=0)\n",
        "# # print(df)"
      ]
    },
    {
      "cell_type": "code",
      "execution_count": null,
      "metadata": {
        "trusted": true
      },
      "outputs": [],
      "source": [
        "df.to_csv(\"lol.csv\")"
      ]
    },
    {
      "cell_type": "code",
      "execution_count": null,
      "metadata": {
        "trusted": true
      },
      "outputs": [],
      "source": [
        "###filtering"
      ]
    },
    {
      "cell_type": "code",
      "execution_count": null,
      "metadata": {
        "trusted": true
      },
      "outputs": [],
      "source": [
        "fire=df.loc[df['Type 1'] == \"Fire\"]\n",
        "print(fire)"
      ]
    },
    {
      "cell_type": "code",
      "execution_count": 4,
      "metadata": {
        "trusted": true
      },
      "outputs": [
        {
          "name": "stdout",
          "output_type": "stream",
          "text": [
            "0      False\n",
            "1      False\n",
            "2      False\n",
            "3      False\n",
            "4       True\n",
            "       ...  \n",
            "795    False\n",
            "796    False\n",
            "797    False\n",
            "798    False\n",
            "799     True\n",
            "Name: Type 1, Length: 800, dtype: bool\n"
          ]
        }
      ],
      "source": [
        "print(df[\"Type 1\"] == \"Fire\")"
      ]
    },
    {
      "cell_type": "code",
      "execution_count": 10,
      "metadata": {
        "trusted": true
      },
      "outputs": [
        {
          "name": "stdout",
          "output_type": "stream",
          "text": [
            "                   #         HP      Attack     Defense    Sp. Atk    Sp. Def  \\\n",
            "Type 1                                                                          \n",
            "Bug       334.492754  56.884058   70.971014   70.724638  53.869565  64.797101   \n",
            "Dark      461.354839  66.806452   88.387097   70.225806  74.645161  69.516129   \n",
            "Dragon    474.375000  83.312500  112.125000   86.375000  96.843750  88.843750   \n",
            "Electric  363.500000  59.795455   69.090909   66.295455  90.022727  73.704545   \n",
            "Fairy     449.529412  74.117647   61.529412   65.705882  78.529412  84.705882   \n",
            "Fighting  363.851852  69.851852   96.777778   65.925926  53.111111  64.703704   \n",
            "Fire      327.403846  69.903846   84.769231   67.769231  88.980769  72.211538   \n",
            "Flying    677.750000  70.750000   78.750000   66.250000  94.250000  72.500000   \n",
            "Ghost     486.500000  64.437500   73.781250   81.187500  79.343750  76.468750   \n",
            "Grass     344.871429  67.271429   73.214286   70.800000  77.500000  70.428571   \n",
            "Ground    356.281250  73.781250   95.750000   84.843750  56.468750  62.750000   \n",
            "Ice       423.541667  72.000000   72.750000   71.416667  77.541667  76.291667   \n",
            "Normal    319.173469  77.275510   73.469388   59.846939  55.816327  63.724490   \n",
            "Poison    251.785714  67.250000   74.678571   68.821429  60.428571  64.392857   \n",
            "Psychic   380.807018  70.631579   71.456140   67.684211  98.403509  86.280702   \n",
            "Rock      392.727273  65.363636   92.863636  100.795455  63.340909  75.477273   \n",
            "Steel     442.851852  65.222222   92.703704  126.370370  67.518519  80.629630   \n",
            "Water     303.089286  72.062500   74.151786   72.946429  74.812500  70.517857   \n",
            "\n",
            "               Speed  Generation  Legendary  \n",
            "Type 1                                       \n",
            "Bug        61.681159    3.217391   0.000000  \n",
            "Dark       76.161290    4.032258   0.064516  \n",
            "Dragon     83.031250    3.875000   0.375000  \n",
            "Electric   84.500000    3.272727   0.090909  \n",
            "Fairy      48.588235    4.117647   0.058824  \n",
            "Fighting   66.074074    3.370370   0.000000  \n",
            "Fire       74.442308    3.211538   0.096154  \n",
            "Flying    102.500000    5.500000   0.500000  \n",
            "Ghost      64.343750    4.187500   0.062500  \n",
            "Grass      61.928571    3.357143   0.042857  \n",
            "Ground     63.906250    3.156250   0.125000  \n",
            "Ice        63.458333    3.541667   0.083333  \n",
            "Normal     71.551020    3.051020   0.020408  \n",
            "Poison     63.571429    2.535714   0.000000  \n",
            "Psychic    81.491228    3.385965   0.245614  \n",
            "Rock       55.909091    3.454545   0.090909  \n",
            "Steel      55.259259    3.851852   0.148148  \n",
            "Water      65.964286    2.857143   0.035714  \n"
          ]
        }
      ],
      "source": [
        "# ###grouping\n",
        "# mean = df.groupby([\"Type 1\"]).mean()\n",
        "mean = df.groupby([\"Type 1\"]).mean(numeric_only=True)\n",
        "print(mean)"
      ]
    }
  ],
  "metadata": {
    "kernelspec": {
      "display_name": "Python 3",
      "language": "python",
      "name": "python3"
    },
    "language_info": {
      "codemirror_mode": {
        "name": "ipython",
        "version": 3
      },
      "file_extension": ".py",
      "mimetype": "text/x-python",
      "name": "python",
      "nbconvert_exporter": "python",
      "pygments_lexer": "ipython3",
      "version": "3.12.1"
    }
  },
  "nbformat": 4,
  "nbformat_minor": 4
}
